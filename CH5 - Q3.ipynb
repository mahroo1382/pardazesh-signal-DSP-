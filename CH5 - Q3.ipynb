{
 "cells": [
  {
   "cell_type": "markdown",
   "id": "684b5b57-001a-4f83-a5d7-782ab57ab274",
   "metadata": {},
   "source": [
    "## آزمون 3 - فصل 5\n",
    "\n",
    "## سوال 1: محاسبه تبدیل فوریه یک سیگنال\n",
    "\n",
    "تبدیل فوریه سیگنال زیر را پیدا کنید:\n",
    "$$ x(t) = e^(-2t) u(t) $$\n",
    "\n",
    " ## پاسخ:\n",
    "\n",
    "فرمول تبدیل فوریه:\n",
    "$$ X(jω) = ∫ x(t) e^(-jωt) dt $$\n",
    "با جایگذاری  $$ x(t) = e^(-2t) u(t): $$\n",
    "$$ X(jω) = ∫ e^-(2+jω)t dt\n",
    "= 1 / (2 + jω) $$\n"
   ]
  },
  {
   "cell_type": "markdown",
   "id": "4620d0cc-8f5f-4ebd-bb30-3005f2b231eb",
   "metadata": {},
   "source": [
    "## سوال 2: خاصیت تغییر مقیاس در تبدیل فوریه\n",
    "\n",
    "اگر سیگنال x(t) دارای تبدیل فوریه X(jω) باشد، خاصیت تغییر مقیاس چیست؟\n",
    "\n",
    "## پاسخ:\n",
    "\n",
    "$$ x(at) ⟷ (1/|a|) X(j(ω/a)) $$ \n",
    "این خاصیت نشان می‌دهد که فشرده شدن سیگنال در زمان، باعث کشیدگی آن در حوزه فرکانس می‌شود\n"
   ]
  },
  {
   "cell_type": "markdown",
   "id": "bc815ea3-9b5c-4733-bdc2-b1b70d653ff7",
   "metadata": {},
   "source": [
    "## سوال 3: محاسبه تبدیل فوریه یک تابع مستطیلی\n",
    "\n",
    "تبدیل فوریه تابع مستطیلی زیر را بیابید:\n",
    "$$ x(t) = 1$$ برای$$ -T ≤ t ≤ T $$ و 0 در غیر این صورت.\n",
    "\n",
    "## پاسخ:\n",
    "$$ X(jω) = ∫ e^(-jωt) dt از -T تا T\n",
    "= (2sin(ωT))/ω = 2T sinc(ωT) $$\n"
   ]
  },
  {
   "cell_type": "markdown",
   "id": "ea105cfd-1979-4f98-8440-3b29eb6db2c6",
   "metadata": {},
   "source": [
    "## سوال 4: حل معادله دیفرانسیل در حوزه فرکانس\n",
    "\n",
    "معادله دیفرانسیل زیر را در حوزه فرکانس حل کنید:\n",
    "$$ dx/dt + 3x(t) = δ(t) $$\n",
    "\n",
    "## پاسخ:\n",
    "با گرفتن تبدیل فوریه:\n",
    "$$ (jω X(jω) + 3X(jω)) = 1 $$\n",
    "$$ X(jω) = 1 / (jω + 3) $$\n"
   ]
  },
  {
   "cell_type": "markdown",
   "id": "7bbb798c-cee8-43ff-b26c-edbd3619e0a3",
   "metadata": {},
   "source": [
    "## سوال 5: محاسبه طیف توان یک سیگنال  \n",
    "\n",
    "طیف توان سیگنال زیر را پیدا کنید:\n",
    "$$ x(t) = cos(ω₀ t) $$ \n",
    "\n",
    "## پاسخ:\n",
    "تبدیل فوریه:\n",
    "$$ X(jω) = π [δ(ω - ω₀) + δ(ω + ω₀)] $$\n",
    "طیف توان:\n",
    "$$ |X(jω)|² = π² [δ(ω - ω₀) + δ(ω + ω₀)] $$\n",
    "\n"
   ]
  }
 ],
 "metadata": {
  "kernelspec": {
   "display_name": "Python 3 (ipykernel)",
   "language": "python",
   "name": "python3"
  },
  "language_info": {
   "codemirror_mode": {
    "name": "ipython",
    "version": 3
   },
   "file_extension": ".py",
   "mimetype": "text/x-python",
   "name": "python",
   "nbconvert_exporter": "python",
   "pygments_lexer": "ipython3",
   "version": "3.12.7"
  }
 },
 "nbformat": 4,
 "nbformat_minor": 5
}
