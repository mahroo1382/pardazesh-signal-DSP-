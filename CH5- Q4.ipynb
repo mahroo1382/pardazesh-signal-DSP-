{
 "cells": [
  {
   "cell_type": "markdown",
   "id": "65dd84fb-8e16-4bf5-891b-ddfc6cb4a05f",
   "metadata": {},
   "source": [
    "## فصل 5 - آزمون سری 4\n",
    "\n",
    "## ۱. محاسبه تبدیل فوریه‌ی یک سیگنال پیوسته\n",
    "\n",
    "فرض کنید سیگنال زیر داده شده است:\n",
    "\n",
    "$$ x(t) = e^{-2t} u(t) $$\n",
    "\n",
    "که در آن  تابع پله واحد است. تبدیل فوریه این سیگنال را محاسبه و رسم کنید.\n"
   ]
  },
  {
   "cell_type": "code",
   "execution_count": null,
   "id": "b4dbf990-8c97-4035-8c99-7b12bae4d082",
   "metadata": {},
   "outputs": [],
   "source": [
    "## کد سوال 1 - پاسخ \n",
    "\n",
    "import sympy as sp\n",
    "from sympy.integrals.transforms import fourier_transform\n",
    "\n",
    "t, w = sp.symbols('t w', real=True)\n",
    "x_t = sp.exp(-2*t) * sp.Heaviside(t)\n",
    "X_w = fourier_transform(x_t, t, w)\n",
    "sp.simplify(X_w)"
   ]
  },
  {
   "cell_type": "markdown",
   "id": "19bad760-c9dc-4393-ab9f-d6390ad542f6",
   "metadata": {},
   "source": [
    "## ۲. رسم طیف دامنه و فاز یک سیگنال گسسته\n",
    "\n",
    "فرض کنید سیگنال گسسته‌ی زیر داده شده است:\n",
    "\n",
    "$$ x[n] = (0.9)^n u[n] $$\n",
    "\n",
    "با استفاده از تبدیل فوریه‌ی گسسته زمان (DTFT)، طیف دامنه و فاز آن را در بازه‌ی  رسم کنید.\n"
   ]
  },
  {
   "cell_type": "code",
   "execution_count": null,
   "id": "7c72b154-82f5-491a-ad53-cd7b68c4a2f5",
   "metadata": {},
   "outputs": [],
   "source": [
    "## کد سوال 2 - پاسخ \n",
    "\n",
    "import numpy as np\n",
    "import matplotlib.pyplot as plt\n",
    "\n",
    "# محدوده فرکانسی\n",
    "w = np.linspace(-np.pi, np.pi, 400)\n",
    "\n",
    "# تابع DTFT برای x[n] = (0.9)^n u[n]\n",
    "X_w = 1 / (1 - 0.9 * np.exp(-1j * w))\n",
    "\n",
    "# رسم دامنه و فاز\n",
    "plt.figure(figsize=(10,4))\n",
    "plt.subplot(1,2,1)\n",
    "plt.plot(w, np.abs(X_w))\n",
    "plt.title(\"Magnitude Spectrum |X(w)|\")\n",
    "plt.xlabel(\"Frequency (rad/sample)\")\n",
    "plt.grid()\n",
    "\n",
    "plt.subplot(1,2,2)\n",
    "plt.plot(w, np.angle(X_w))\n",
    "plt.title(\"Phase Spectrum ∠X(w)\")\n",
    "plt.xlabel(\"Frequency (rad/sample)\")\n",
    "plt.grid()\n",
    "\n",
    "plt.show()"
   ]
  },
  {
   "cell_type": "markdown",
   "id": "26dc2c13-0734-48c7-87c8-0ba808a3eae6",
   "metadata": {},
   "source": [
    "## ۳. محاسبه تبدیل فوریه برای یک سیگنال سینوسی\n",
    "\n",
    "یک سیگنال سینوسی به‌صورت زیر تعریف شده است:\n",
    "\n",
    "$$ x(t) = \\cos(5t) $$\n",
    "\n",
    "سؤال: تبدیل فوریه‌ی آن را پیدا کنید و ضرایب را تحلیل کنید."
   ]
  },
  {
   "cell_type": "code",
   "execution_count": null,
   "id": "932113af-6b70-4f22-963e-1d45137cbe8a",
   "metadata": {},
   "outputs": [],
   "source": [
    "## کد سوال 3 - پاسخ\n",
    "\n",
    "x_t = sp.cos(5*t)\n",
    "X_w = fourier_transform(x_t, t, w)\n",
    "sp.simplify(X_w)"
   ]
  },
  {
   "cell_type": "markdown",
   "id": "8ec1093d-38ad-4b73-a111-59b5d1df19fb",
   "metadata": {},
   "source": [
    "## ۴. فیلترکردن سیگنال با فیلتر ایده‌آل در حوزه‌ی فرکانس\n",
    "\n",
    "فرض کنید سیگنال ورودی به‌صورت زیر است:\n",
    "\n",
    "$$ x(t) = e^{-t^2} $$\n",
    "\n",
    "و یک فیلتر پایین‌گذر ایده‌آل داریم که برای  خروجی را صفر می‌کند. سیگنال پس از عبور از فیلتر را پیدا کنید."
   ]
  },
  {
   "cell_type": "code",
   "execution_count": null,
   "id": "d1d3dba0-1b5e-4922-988d-0b6e949cc417",
   "metadata": {},
   "outputs": [],
   "source": [
    "## کد سوال 4 - پاسخ\n",
    "\n",
    "import sympy as sp\n",
    "\n",
    "# تعریف متغیرها\n",
    "t, w = sp.symbols('t w', real=True)\n",
    "x_t = sp.exp(-t**2)  # سیگنال ورودی\n",
    "\n",
    "# تبدیل فوریه‌ی سیگنال ورودی\n",
    "X_w = sp.fourier_transform(x_t, t, w)\n",
    "X_w_simplified = sp.simplify(X_w)  # ساده‌سازی\n",
    "\n",
    "# تعریف فیلتر ایده‌آل (مثلاً فیلتر پایین‌گذر با برد فرکانسی |w| < 2)\n",
    "H_w = sp.Piecewise((1, abs(w) < 2), (0, True))  # فیلتر ایده‌آل\n",
    "\n",
    "# سیگنال فیلتر شده در حوزه فرکانس\n",
    "Y_w = X_w_simplified * H_w\n",
    "\n",
    "# تبدیل فوریه‌ی معکوس برای یافتن سیگنال خروجی در زمان\n",
    "y_t = sp.inverse_fourier_transform(Y_w, w, t)\n",
    "y_t_simplified = sp.simplify(y_t)\n",
    "\n",
    "# نمایش نتیجه\n",
    "y_t_simplified"
   ]
  },
  {
   "cell_type": "markdown",
   "id": "fdb5c40e-2725-4f0a-9c99-8a913182d4b1",
   "metadata": {},
   "source": [
    "## ۵. محاسبه کانولوشن دو سیگنال در حوزه‌ی فرکانس\n",
    "\n",
    "فرض کنید دو سیگنال زیر داریم:\n",
    "\n",
    "$$ x_1(t) = e^{-t} u(t), \\quad x_2(t) = u(t) - u(t-3) $$\n",
    "\n",
    "سؤال: کانولوشن آن‌ها را در حوزه‌ی فرکانس محاسبه کنید."
   ]
  },
  {
   "cell_type": "code",
   "execution_count": null,
   "id": "636e35ed-34aa-4419-806f-2d76dd584cb4",
   "metadata": {},
   "outputs": [],
   "source": [
    "## کد سوال 5 - پاسخ \n",
    "\n",
    "import sympy as sp\n",
    "\n",
    "# تعریف متغیرها\n",
    "t, tau = sp.symbols('t tau', real=True)\n",
    "\n",
    "# تعریف سیگنال‌های ورودی\n",
    "x1 = sp.exp(-tau**2)\n",
    "x2 = sp.exp(-abs(t - tau))\n",
    "\n",
    "# محاسبه‌ی کانولوشن با انتگرال‌گیری\n",
    "y_t = sp.integrate(x1 * x2, (tau, -sp.oo, sp.oo))\n",
    "\n",
    "# نمایش نتیجه‌ی ساده‌شده\n",
    "y_t_simplified = sp.simplify(y_t)\n",
    "y_t_simplified"
   ]
  }
 ],
 "metadata": {
  "kernelspec": {
   "display_name": "Python 3 (ipykernel)",
   "language": "python",
   "name": "python3"
  },
  "language_info": {
   "codemirror_mode": {
    "name": "ipython",
    "version": 3
   },
   "file_extension": ".py",
   "mimetype": "text/x-python",
   "name": "python",
   "nbconvert_exporter": "python",
   "pygments_lexer": "ipython3",
   "version": "3.12.7"
  }
 },
 "nbformat": 4,
 "nbformat_minor": 5
}
