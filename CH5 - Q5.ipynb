{
 "cells": [
  {
   "cell_type": "markdown",
   "id": "534d9ccc-6265-4f8f-bfd9-a3822ba19638",
   "metadata": {},
   "source": [
    "## آزمون شماره 5 - فصل 5\n",
    "\n",
    "## نمونه 1: تبدیل لاپلاس تابع پله واحد"
   ]
  },
  {
   "cell_type": "code",
   "execution_count": null,
   "id": "38c31cf8-13c2-439a-ba2f-62a02ecc6af1",
   "metadata": {},
   "outputs": [],
   "source": [
    "## کد سوال 1\n",
    "from sympy import symbols, laplace_transform, Heaviside, simplify\n",
    "\n",
    "t, s = symbols('t s')\n",
    "f = Heaviside(t)\n",
    "\n",
    "F = laplace_transform(f, t, s, noconds=True)\n",
    "simplify(F)"
   ]
  },
  {
   "cell_type": "markdown",
   "id": "9b9081e3-8f47-41b2-ab5d-40600c844cee",
   "metadata": {},
   "source": [
    "## نمونه 2: تبدیل لاپلاس تابع نمایی ضرب در پله واحد"
   ]
  },
  {
   "cell_type": "code",
   "execution_count": null,
   "id": "79ef1a38-afff-4b42-b182-3158f7c5aa17",
   "metadata": {},
   "outputs": [],
   "source": [
    "## کد سوال 2\n",
    "from sympy import exp\n",
    "\n",
    "f = exp(-2*t) * Heaviside(t)\n",
    "F = laplace_transform(f, t, s, noconds=True)\n",
    "simplify(F)"
   ]
  },
  {
   "cell_type": "markdown",
   "id": "f16165ba-0055-4cad-a451-b71a91ebb56f",
   "metadata": {},
   "source": [
    "## نمونه 3: معکوس لاپلاس یک تابع"
   ]
  },
  {
   "cell_type": "code",
   "execution_count": null,
   "id": "5f633a1d-a325-4155-b074-ab9a7e3af753",
   "metadata": {},
   "outputs": [],
   "source": [
    "## کد سوال 3\n",
    "from sympy import inverse_laplace_transform\n",
    "\n",
    "F = 1 / (s + 3)\n",
    "f_time = inverse_laplace_transform(F, s, t)\n",
    "f_time"
   ]
  },
  {
   "cell_type": "markdown",
   "id": "3b7310e1-a28d-4049-9151-133f3dade659",
   "metadata": {},
   "source": [
    "## نمونه 4: بررسی پایداری سیستم با تبدیل لاپلاس تابع پاسخ"
   ]
  },
  {
   "cell_type": "code",
   "execution_count": null,
   "id": "64cfdfcc-e35a-4d71-8f7e-1b6c1653ad06",
   "metadata": {},
   "outputs": [],
   "source": [
    "## کد سوال 4\n",
    "H = 1 / (s**2 + 2*s + 2)\n",
    "H"
   ]
  },
  {
   "cell_type": "markdown",
   "id": "84bae2c0-a0f6-4b8e-97d3-5505ba197ada",
   "metadata": {},
   "source": [
    "## نمونه 5: کد کامل برای رسم پاسخ زمانی سیستم از تبدیل لاپلاس"
   ]
  },
  {
   "cell_type": "code",
   "execution_count": null,
   "id": "680fa237-a5d2-4366-8c9e-697b6085f144",
   "metadata": {},
   "outputs": [],
   "source": [
    "## کد سوال 5\n",
    "import numpy as np\n",
    "import matplotlib.pyplot as plt\n",
    "from scipy.signal import TransferFunction, step\n",
    "\n",
    "num = [1]\n",
    "den = [1, 2, 2]\n",
    "system = TransferFunction(num, den)\n",
    "\n",
    "t, y = step(system)\n",
    "plt.plot(t, y)\n",
    "plt.xlabel(\"Time [s]\")\n",
    "plt.ylabel(\"Response\")\n",
    "plt.title(\"Step Response of H(s) = 1 / (s^2 + 2s + 2)\")\n",
    "plt.grid()\n",
    "plt.show()"
   ]
  },
  {
   "cell_type": "markdown",
   "id": "18ca72f5-925e-40a4-8c04-6d316a982958",
   "metadata": {},
   "source": [
    "## نمونه 6 : حل معادله دیفرانسیل با لاپلاس\n",
    "* سوال:\n",
    "یک سیستم با معادله دیفرانسیل زیر داده شده\n",
    "\n",
    "$$  y''(t) + 5y'(t) + 6y(t) = x(t) $$\n",
    "\n",
    "$$ x(t) = u(t), \\quad y(0) = 0, \\quad y'(0) = 0  $$"
   ]
  },
  {
   "cell_type": "code",
   "execution_count": null,
   "id": "71eb8fcc-9a9b-480f-862f-cab83db2fd67",
   "metadata": {},
   "outputs": [],
   "source": [
    "## کد سوال 6\n",
    "from sympy import Function, symbols, LaplaceTransform, inverse_laplace_transform, Heaviside, Eq, solve, simplify, dsolve, Derivative\n",
    "\n",
    "t, s = symbols('t s')\n",
    "Y = Function('Y')(s)\n",
    "\n",
    "# تعریف معادله لاپلاس: Y'' + 5Y' + 6Y = 1/s\n",
    "Y_s = symbols('Y_s')\n",
    "eq = Eq(s**2 * Y_s + 5*s * Y_s + 6*Y_s, 1/s)\n",
    "\n",
    "# حل Y(s)\n",
    "Y_s_sol = solve(eq, Y_s)[0]\n",
    "Y_s_sol = simplify(Y_s_sol)\n",
    "print(\"Y(s) =\", Y_s_sol)\n",
    "\n",
    "# معکوس لاپلاس برای یافتن y(t)\n",
    "y_t = inverse_laplace_transform(Y_s_sol, s, t)\n",
    "simplify(y_t)"
   ]
  },
  {
   "cell_type": "markdown",
   "id": "9de5ea77-ec01-4b9e-b20c-f6bdec0934b7",
   "metadata": {},
   "source": [
    "##  نمونه 7 : پیدا کردن تابع تبدیل (Transfer Function)\n",
    "\n",
    "* سوال:\n",
    "برای معادله زیر تابع تبدیل سیستم را پیدا کنید\n",
    "\n",
    "$$ y'' + 4y' + 3y = x'(t) $$"
   ]
  },
  {
   "cell_type": "code",
   "execution_count": null,
   "id": "5897bad9-dea6-470e-9743-9fd00cbb0896",
   "metadata": {},
   "outputs": [],
   "source": [
    "## کد سوال 7\n",
    "# تبدیل لاپلاس طرفین معادله (با شرایط اولیه صفر)\n",
    "X_s = symbols('X_s')\n",
    "eq2 = Eq(s**2 * Y_s + 4*s*Y_s + 3*Y_s, s*X_s)\n",
    "\n",
    "# حل برای تابع تبدیل H(s) = Y(s)/X(s)\n",
    "H_s = solve(eq2.subs(Y_s, 'Y_s'), 'Y_s')[0] / X_s\n",
    "simplify(H_s)"
   ]
  },
  {
   "cell_type": "markdown",
   "id": "7494d877-80f4-4923-a324-add0291c45a5",
   "metadata": {},
   "source": [
    "##  نمونه 8 : بررسی پایداری سیستم از روی تابع تبدیل\n",
    "\n",
    "* سوال:\n",
    "اگر تابع تبدیل یک سیستم به صورت زیر باشد\n",
    "\n",
    "$$ H(s) = \\frac{s + 2}{s^2 + 4s + 5} $$"
   ]
  },
  {
   "cell_type": "code",
   "execution_count": null,
   "id": "f56816b7-78d6-47c5-9843-4dfbe84d94dd",
   "metadata": {},
   "outputs": [],
   "source": [
    "## کد سوال 8\n",
    "import numpy as np\n",
    "np.roots([1, 4, 5])"
   ]
  }
 ],
 "metadata": {
  "kernelspec": {
   "display_name": "Python 3 (ipykernel)",
   "language": "python",
   "name": "python3"
  },
  "language_info": {
   "codemirror_mode": {
    "name": "ipython",
    "version": 3
   },
   "file_extension": ".py",
   "mimetype": "text/x-python",
   "name": "python",
   "nbconvert_exporter": "python",
   "pygments_lexer": "ipython3",
   "version": "3.12.7"
  }
 },
 "nbformat": 4,
 "nbformat_minor": 5
}
