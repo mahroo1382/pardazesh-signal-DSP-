{
 "cells": [
  {
   "cell_type": "markdown",
   "id": "d0bea0f6-cbc3-40da-8f96-1dece55ab152",
   "metadata": {},
   "source": [
    "## آزمون سری 6 - فصل 5"
   ]
  },
  {
   "cell_type": "markdown",
   "id": "c436de51-b138-48c1-ae12-61cabd32680e",
   "metadata": {},
   "source": [
    "## سؤال ۱: محاسبه تبدیل فوریه یک سیگنال نمایی ضرب در پالس واحد\n",
    "\n",
    "* سیگنال زیر را در نظر بگیرید:\n",
    "$$ x(t) = e^(-2t)u(t) $$\n",
    "تبدیل فوریه این سیگنال را بیابید.\n",
    "\n",
    "فرمول کلی تبدیل فوریه برای سیگنال x(t) به صورت زیر است:\n",
    "$$ X(jω) = ∫ x(t) e^(-jωt) dt $$\n",
    "برای سیگنال داده‌شده:\n",
    "با بازه انتگرال 0 تا بی نهایت\n",
    "$$ x(t) = e^(-2t)u(t) $$\n",
    "\n",
    "$$ X(jω) = ∫₀^∞ e^(-2t) e^(-jωt) dt = ∫₀^∞ e^(-(2 + jω)t) dt $$\n",
    "$$ X(jω) = 1 / (2 + jω) $$\n",
    "* جواب نهایی\n",
    "$$ X(jω) = 1 / (2 + jω) $$\n"
   ]
  },
  {
   "cell_type": "markdown",
   "id": "abbe7825-c9e6-49fd-849e-48693af6b21d",
   "metadata": {},
   "source": [
    "## سؤال ۲: ویژگی تأخیر زمانی در تبدیل فوریه"
   ]
  },
  {
   "cell_type": "markdown",
   "id": "92b02a5e-e7f3-46e0-aada-7ad403c19f00",
   "metadata": {},
   "source": [
    "# فرض کنید x(t) سیگنالی است که تبدیل فوریه آن X(jω) است. اگر سیگنال جدیدی به صورت x(t - 3) تعریف شود،\n",
    "فوریه ان را بنویسید\n",
    "\n",
    "  * یکی از خواص تبدیل فوریه تأخیر زمانی است\n",
    "\n",
    "    اگر x(t) → X(jω)، آنگاه:\n",
    "\n",
    " $$ x(t - t₀) → X(jω) e^(-jωt₀) $$ \n",
    "\n",
    " اینجا t₀ = ۳، بنابراین:\n",
    "\n",
    "* جواب نهایی\n",
    "  \n",
    "$$ X(jω) · e^(-j3ω) $$\n"
   ]
  },
  {
   "cell_type": "markdown",
   "id": "b7dbf25f-5884-4234-acdb-f8c3fc084ad1",
   "metadata": {},
   "source": [
    "## سؤال ۳: سیگنال مثلثی و تبدیل فوریه"
   ]
  },
  {
   "cell_type": "markdown",
   "id": "68a17920-974e-4782-a109-7fef592316f1",
   "metadata": {},
   "source": [
    "* فرض کنید x(t) یک سیگنال مثلثی به صورت زیر است:\n",
    "* x(t) = Λ(t) که به صورت خطی از 1 در t=0 به 0 در t=±1 می‌رسد.\n",
    "* تبدیل فوریه آن را بیابید.\n",
    "\n",
    "می دانیم:\n",
    "\n",
    "$$ Λ(t) = X(t) $$\n",
    "تبدیل فوریه X(t) برابر است با:\n",
    "\n",
    "$$ X(jω) = sinc²(ω/2) $$\n",
    "\n",
    "* جواب نهایی\n",
    "$$ X(jω) = [sin(ω/2)/(ω/2)]² $$\n"
   ]
  },
  {
   "cell_type": "markdown",
   "id": "075d09fe-1382-424f-b725-cc9114b81654",
   "metadata": {},
   "source": [
    "## سؤال ۴: سیگنال کسینوسی و طیف آن"
   ]
  },
  {
   "cell_type": "markdown",
   "id": "42d81087-08e2-401b-a115-cf014b1704ff",
   "metadata": {},
   "source": [
    "# ،تبدیل فوریه این سیگنال چیست؟\n",
    "# اگر x(t) = cos(4t)\n",
    "\n",
    "* می‌دانیم:\n",
    "$$ cos(ω₀t) → π[δ(ω - ω₀) + δ(ω + ω₀)] $$\n",
    "\n",
    "* در اینجا ω₀ = ۴، پس:\n",
    "\n",
    "* جواب نهایی\n",
    "$$ X(jω) = π[δ(ω - 4) + δ(ω + 4)]$$ "
   ]
  }
 ],
 "metadata": {
  "kernelspec": {
   "display_name": "Python 3 (ipykernel)",
   "language": "python",
   "name": "python3"
  },
  "language_info": {
   "codemirror_mode": {
    "name": "ipython",
    "version": 3
   },
   "file_extension": ".py",
   "mimetype": "text/x-python",
   "name": "python",
   "nbconvert_exporter": "python",
   "pygments_lexer": "ipython3",
   "version": "3.12.7"
  }
 },
 "nbformat": 4,
 "nbformat_minor": 5
}
